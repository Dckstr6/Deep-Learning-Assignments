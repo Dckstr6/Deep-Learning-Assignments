{
  "nbformat": 4,
  "nbformat_minor": 0,
  "metadata": {
    "colab": {
      "name": "DL Assignment - DL",
      "provenance": [],
      "private_outputs": true,
      "collapsed_sections": [],
      "include_colab_link": true
    },
    "kernelspec": {
      "name": "python3",
      "display_name": "Python 3"
    },
    "accelerator": "GPU"
  },
  "cells": [
    {
      "cell_type": "markdown",
      "metadata": {
        "id": "view-in-github",
        "colab_type": "text"
      },
      "source": [
        "<a href=\"https://colab.research.google.com/github/Dckstr6/Deep-Learning-Assignments/blob/main/DL_Assignment_DL.ipynb\" target=\"_parent\"><img src=\"https://colab.research.google.com/assets/colab-badge.svg\" alt=\"Open In Colab\"/></a>"
      ]
    },
    {
      "cell_type": "code",
      "metadata": {
        "id": "7huhrA-z8Srr"
      },
      "source": [
        "import pandas as pd\n",
        "import tensorflow as tf\n",
        "from tensorflow import keras\n",
        "import numpy as np\n",
        "from sklearn.model_selection import train_test_split\n",
        "from sklearn.linear_model import LogisticRegression\n",
        "from sklearn.svm import SVC\n",
        "from sklearn.ensemble import RandomForestClassifier\n",
        "from sklearn.preprocessing import StandardScaler\n",
        "from sklearn.tree import DecisionTreeClassifier\n",
        "from sklearn.metrics import accuracy_score\n",
        "import matplotlib.pyplot as plt\n",
        "%matplotlib inline"
      ],
      "execution_count": null,
      "outputs": []
    },
    {
      "cell_type": "code",
      "metadata": {
        "id": "gp8Rgt718aK2"
      },
      "source": [
        "(X_train,y_train),(X_test,y_test) = tf.keras.datasets.mnist.load_data(path='mnist.npz')"
      ],
      "execution_count": null,
      "outputs": []
    },
    {
      "cell_type": "code",
      "metadata": {
        "id": "D9hfb8vk8ejC"
      },
      "source": [
        "X_train = X_train.reshape((X_train.shape[0],-1))\n",
        "X_test = X_test.reshape((X_test.shape[0],-1))\n",
        "X_train = X_train.astype('float32') \n",
        "X_test = X_test.astype('float32')\n",
        "X_train = X_train/255.0\n",
        "X_test = X_test/255.0\n",
        "X_train,X_val,y_train,y_val = train_test_split(X_train,y_train,test_size=0.2,random_state=420)"
      ],
      "execution_count": null,
      "outputs": []
    },
    {
      "cell_type": "code",
      "metadata": {
        "id": "ZzMe05yML8Lc"
      },
      "source": [
        "def train_evaluate(number_layers,number_units,hidden_activation,epochs,optimizer,verbosity):\n",
        "    #defining model architecture\n",
        "    model = keras.models.Sequential()\n",
        "    model.add(keras.layers.InputLayer(input_shape=(784,)))\n",
        "    #adding layers\n",
        "    for i in range(number_layers):\n",
        "        model.add(keras.layers.Dense(units=number_units[i],activation=hidden_activation[i]))\n",
        "    #adding final softmax output layer\n",
        "    model.add(keras.layers.Dense(units=10,activation='softmax'))\n",
        "\n",
        "    model.compile(optimizer=optimizer,metrics=['accuracy'],loss='sparse_categorical_crossentropy')\n",
        "\n",
        "    #print(\"Training model with %d layers\\n\",number_layers)\n",
        "    history = model.fit(x=X_train,y=y_train,epochs=epochs,verbose=verbosity,validation_data=(X_val,y_val))\n",
        "\n",
        "    train_acc = history.history['accuracy']\n",
        "    val_acc = history.history['val_accuracy']\n",
        "\n",
        "    epoch_numbers = range(epochs)\n",
        "\n",
        "    plt.plot(epoch_numbers, train_acc, 'g', label='Training Accuracy')\n",
        "    plt.plot(epoch_numbers,val_acc,'b',label=\"Validation Accuracy\")\n",
        "\n",
        "\n",
        "    plt.title('Training accuracy and Validation Accuracy')\n",
        "    plt.xlabel('Epoch Number')\n",
        "    plt.ylabel('Accuracy')\n",
        "    plt.legend()\n",
        "    plt.show()\n",
        "    \n",
        "    score,accuracy = model.evaluate(X_test,y_test)\n",
        "    print(\"Final Training Accuracy of the model: \")\n",
        "    print(train_acc[-1])\n",
        "    print(\"Final Testing Accuracy of the model: \")\n",
        "    print(accuracy)"
      ],
      "execution_count": null,
      "outputs": []
    },
    {
      "cell_type": "code",
      "metadata": {
        "id": "aRhLQ13zQfwx"
      },
      "source": [
        "train_evaluate(2,[28,10],['relu','relu'],10,'adam',0)"
      ],
      "execution_count": null,
      "outputs": []
    },
    {
      "cell_type": "code",
      "metadata": {
        "id": "PPLtEHMQQv7t"
      },
      "source": [
        ""
      ],
      "execution_count": null,
      "outputs": []
    }
  ]
}